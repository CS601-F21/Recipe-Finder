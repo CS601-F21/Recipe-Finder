{
 "cells": [
  {
   "cell_type": "code",
   "execution_count": 48,
   "id": "c515a2ba",
   "metadata": {},
   "outputs": [],
   "source": [
    "'''\n",
    "    Author Name : Shubham Pareek\n",
    "    Purpose : This is where we go through the recipe file, process the file then we finally insert all the records into the database \n",
    "    using Pymongo\n",
    "'''"
   ]
  },
  {
   "cell_type": "code",
   "execution_count": null,
   "id": "f2cec555",
   "metadata": {},
   "outputs": [],
   "source": [
    "'''ast is used to process the list which are in string format as lists'''\n",
    "import ast\n",
    "import csv\n",
    "import json\n",
    "import pymongo"
   ]
  },
  {
   "cell_type": "code",
   "execution_count": 49,
   "id": "a9bbd0b7",
   "metadata": {},
   "outputs": [],
   "source": [
    "with open(f'/home/shubham/JavaScript/side-project-shubham0831/RAW_recipes.csv') as rawFile:\n",
    "    csvFile = list(csv.DictReader(rawFile))"
   ]
  },
  {
   "cell_type": "code",
   "execution_count": 50,
   "id": "a061670d",
   "metadata": {},
   "outputs": [],
   "source": [
    "#all of the data is in string format, we convert the appropriate ones to list format\n",
    "#ast.literal_eval is a inbuilt python function which parses a list which is written out as a string\n",
    "#and converts it to a list\n",
    "for i in range(len(csvFile)):\n",
    "    csvFile[i]['tags'] = ast.literal_eval(csvFile[i]['tags'])\n",
    "    csvFile[i]['steps'] = ast.literal_eval(csvFile[i]['steps'])\n",
    "    csvFile[i]['ingredients'] = ast.literal_eval(csvFile[i]['ingredients'])\n",
    "\n",
    "    #nutrition information should a dict\n",
    "    nutrition = ast.literal_eval(csvFile[i]['nutrition'])\n",
    "    nutritionDict = {\n",
    "    'calories' : nutrition[0],\n",
    "    'totalFat' : nutrition[1],\n",
    "    'sugar' : nutrition[2],\n",
    "    'sodium' : nutrition[3],\n",
    "    'protein' : nutrition[4],\n",
    "    'saturatedFat' : nutrition[5]\n",
    "    }\n",
    "\n",
    "    csvFile[i]['nutrition'] = nutritionDict"
   ]
  },
  {
   "cell_type": "code",
   "execution_count": 51,
   "id": "2441b4ab",
   "metadata": {},
   "outputs": [],
   "source": [
    "with open (\"/home/shubham/JavaScript/side-project-shubham0831/config.json\") as config:\n",
    "    configFile = json.load(config)\n",
    "\n",
    "username = configFile['username']\n",
    "password = configFile['password']\n",
    "database = configFile['database']"
   ]
  },
  {
   "cell_type": "code",
   "execution_count": 52,
   "id": "2be71ec6",
   "metadata": {},
   "outputs": [],
   "source": [
    "#connecting to db\n",
    "uri = \"mongodb+srv://\" +username+\":\"+password+\"@\"+database+\".tjeuf.mongodb.net/RecipeSearch?retryWrites=true&w=majority\"\n",
    "client = pymongo.MongoClient(uri)\n",
    "db = client.Recipes\n",
    "recipeCollection = db.Recipe"
   ]
  },
  {
   "cell_type": "code",
   "execution_count": 54,
   "id": "ae847664",
   "metadata": {},
   "outputs": [
    {
     "data": {
      "text/plain": [
       "<pymongo.results.InsertManyResult at 0x7f98ffc38940>"
      ]
     },
     "execution_count": 54,
     "metadata": {},
     "output_type": "execute_result"
    }
   ],
   "source": [
    "#inserting elements into db\n",
    "recipeCollection.insert_many(csvFile)"
   ]
  },
  {
   "cell_type": "code",
   "execution_count": 70,
   "id": "4408768e",
   "metadata": {},
   "outputs": [
    {
     "name": "stdout",
     "output_type": "stream",
     "text": [
      "8.844376952289016\n",
      "8.950686527708937\n",
      "17.88007960731662\n"
     ]
    }
   ],
   "source": [
    "'''\n",
    "    Insertion into the db is done, this piece of code is for understanding the dataset\n",
    "'''\n",
    "avgStepsPerRecipe : int = 0\n",
    "sc : int = 0\n",
    "avgIngredientsPerRecipe : int = 0\n",
    "ic : int = 0\n",
    "avgTagsPerRecipe : int = 0\n",
    "rec = {}\n",
    "\n",
    "for recipe in csvFile:\n",
    "    if (len(recipe['steps']) <= 20):\n",
    "        avgStepsPerRecipe += len(recipe['steps'])\n",
    "        sc += 1\n",
    "    if (len(recipe['ingredients']) <= 20):\n",
    "        avgIngredientsPerRecipe += len(recipe['ingredients'])\n",
    "        ic += 1\n",
    "    avgTagsPerRecipe += len(recipe['tags'])\n",
    "\n",
    "\n",
    "avgStepsPerRecipe /= sc\n",
    "avgIngredientsPerRecipe /= ic\n",
    "avgTagsPerRecipe /= len(csvFile)\n",
    "\n",
    "print(avgStepsPerRecipe)\n",
    "print(avgIngredientsPerRecipe)\n",
    "print(avgTagsPerRecipe)"
   ]
  },
  {
   "cell_type": "code",
   "execution_count": 68,
   "id": "0fb71034",
   "metadata": {},
   "outputs": [
    {
     "name": "stdout",
     "output_type": "stream",
     "text": [
      "easy yeast bread with variations\n",
      "['all-purpose flour', 'dry yeast', 'sugar', 'salt', 'water', 'milk', 'cooking oil', 'eggs']\n"
     ]
    }
   ],
   "source": [
    "print(rec['name'])\n",
    "print(rec['ingredients'])"
   ]
  },
  {
   "cell_type": "code",
   "execution_count": null,
   "id": "c4b3c80c",
   "metadata": {},
   "outputs": [],
   "source": []
  }
 ],
 "metadata": {
  "kernelspec": {
   "display_name": "Python 3 (ipykernel)",
   "language": "python",
   "name": "python3"
  },
  "language_info": {
   "codemirror_mode": {
    "name": "ipython",
    "version": 3
   },
   "file_extension": ".py",
   "mimetype": "text/x-python",
   "name": "python",
   "nbconvert_exporter": "python",
   "pygments_lexer": "ipython3",
   "version": "3.10.0"
  }
 },
 "nbformat": 4,
 "nbformat_minor": 5
}
