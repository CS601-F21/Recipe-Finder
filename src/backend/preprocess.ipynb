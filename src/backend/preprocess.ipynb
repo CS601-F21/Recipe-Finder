{
 "cells": [
  {
   "cell_type": "code",
   "execution_count": 2,
   "id": "d9d25a39",
   "metadata": {},
   "outputs": [],
   "source": [
    "'''\n",
    "    purpose of this file is to preprocess the json file containing the recipes and\n",
    "    to add the preprocessed files to the db\n",
    "'''\n",
    "import json"
   ]
  },
  {
   "cell_type": "code",
   "execution_count": 3,
   "id": "454640fd",
   "metadata": {},
   "outputs": [],
   "source": [
    "#opening the json file\n",
    "with open('/home/shubham/JavaScript/side-project-shubham0831/recipes_with_nutritional_info.json') as json_file:\n",
    "    data = json.load(json_file)"
   ]
  },
  {
   "cell_type": "code",
   "execution_count": 4,
   "id": "8560d030",
   "metadata": {},
   "outputs": [
    {
     "name": "stdout",
     "output_type": "stream",
     "text": [
      "51235\n"
     ]
    }
   ],
   "source": [
    "#random testing\n",
    "print(len(data))\n",
    "# test_data = data[1000]\n",
    "# print(len(data))\n",
    "\n",
    "# print('------')\n",
    "\n",
    "# for key, value in test_data.items():\n",
    "#     print(key)"
   ]
  },
  {
   "cell_type": "code",
   "execution_count": 21,
   "id": "802f4f8b",
   "metadata": {},
   "outputs": [],
   "source": [
    "#recipe_list is a list containing dicts, each dict has a single recipe information\n",
    "#each dict has a single recipe information, because mongoDB requires that, since each dict is a document\n",
    "recipe_list = []\n",
    "\n",
    "#extracting useful info from the data list\n",
    "for dat in data:\n",
    "    #following dict will contain the recipe info\n",
    "    recipe_dict = dict()\n",
    "    \n",
    "    name = dat['title'] \n",
    "    ingredient_list = dat['ingredients']\n",
    "    ingredient_unit = dat['unit']\n",
    "    ingredient_quantity = dat['quantity']\n",
    "    instruction_list = dat['instructions']\n",
    "    nutrition_values = dat['nutr_values_per100g']\n",
    "    instruction = ''\n",
    "\n",
    "    ingredients = []\n",
    "    ingredientQuantity = dict()\n",
    "    # print(name)\n",
    "\n",
    "    for i in range(len(ingredient_list)):\n",
    "        item = ingredient_list[i]['text']\n",
    "        quant = ingredient_quantity[i]['text']\n",
    "        unit = ingredient_unit[i]['text']\n",
    "\n",
    "        mainIngredient = item.split(',')[0]\n",
    "        ingredients.append(mainIngredient)\n",
    "        dose = quant + \" \" + unit\n",
    "        ingredientQuantity[mainIngredient] = dose\n",
    "\n",
    "    for inst in instruction_list:\n",
    "        ins = inst['text']\n",
    "        instruction += ins + \"\\n\"\n",
    "\n",
    "    recipe_dict['name'] = name\n",
    "    recipe_dict['ingredients'] = ingredients\n",
    "    recipe_dict['ingredient_quantity'] = ingredientQuantity\n",
    "    recipe_dict['instructions'] = instruction\n",
    "    recipe_dict['nutrition_values'] = nutrition_values\n",
    "    \n",
    "    recipe_list.append(recipe_dict)"
   ]
  },
  {
   "cell_type": "code",
   "execution_count": 22,
   "id": "63ec18b0",
   "metadata": {},
   "outputs": [
    {
     "name": "stdout",
     "output_type": "stream",
     "text": [
      "{'name': 'Yogurt Parfaits', 'ingredients': ['yogurt', 'strawberries', 'cereals ready-to-eat'], 'ingredient_quantity': {'yogurt': '8 ounce', 'strawberries': '1 cup', 'cereals ready-to-eat': '1/4 cup'}, 'instructions': 'Layer all ingredients in a serving dish.\\n', 'nutrition_values': {'energy': 81.12946131894766, 'fat': 2.140139263515891, 'protein': 6.914436593565536, 'salt': 0.05597816738985967, 'saturates': 0.36534716195613937, 'sugars': 5.08634103436144}}\n"
     ]
    }
   ],
   "source": [
    "#sample data\n",
    "print(recipe_list[0])"
   ]
  },
  {
   "cell_type": "code",
   "execution_count": 23,
   "id": "fc4b04ec",
   "metadata": {},
   "outputs": [],
   "source": [
    "#mongodb client for python\n",
    "import pymongo"
   ]
  },
  {
   "cell_type": "code",
   "execution_count": 24,
   "id": "13c82626",
   "metadata": {},
   "outputs": [],
   "source": [
    "#reading configs\n",
    "with open('config.json') as json_file:\n",
    "    config = json.load(json_file)\n",
    "\n",
    "username = config['username']\n",
    "password = config['password']\n",
    "database = config['database']"
   ]
  },
  {
   "cell_type": "code",
   "execution_count": 25,
   "id": "fcbbc15c",
   "metadata": {},
   "outputs": [],
   "source": [
    "#connecting to db\n",
    "uri = \"mongodb+srv://\" +username+\":\"+password+\"@\"+database+\".tjeuf.mongodb.net/RecipeSearch?retryWrites=true&w=majority\"\n",
    "client = pymongo.MongoClient(uri)\n",
    "db = client.Recipes\n",
    "recipe_collection = db.Recipe"
   ]
  },
  {
   "cell_type": "code",
   "execution_count": 26,
   "id": "bcfdda85",
   "metadata": {},
   "outputs": [
    {
     "data": {
      "text/plain": [
       "<pymongo.results.InsertManyResult at 0x7fb431222380>"
      ]
     },
     "execution_count": 26,
     "metadata": {},
     "output_type": "execute_result"
    }
   ],
   "source": [
    "#inserting elements into db\n",
    "recipe_collection.insert_many(recipe_list)"
   ]
  },
  {
   "cell_type": "code",
   "execution_count": 30,
   "id": "fce81154",
   "metadata": {},
   "outputs": [
    {
     "data": {
      "text/plain": [
       "<pymongo.results.UpdateResult at 0x7fb3eee81840>"
      ]
     },
     "execution_count": 30,
     "metadata": {},
     "output_type": "execute_result"
    }
   ],
   "source": [
    "recipe_collection.update_many(\n",
    "    { \"ingredients\": \"spartan\" },\n",
    "    { \"$set\": { \"ingredients.$\": \"chocolate chip\" } }\n",
    ")"
   ]
  },
  {
   "cell_type": "code",
   "execution_count": 37,
   "id": "774bcb70",
   "metadata": {},
   "outputs": [
    {
     "data": {
      "text/plain": [
       "<pymongo.results.UpdateResult at 0x7fb46fd12f80>"
      ]
     },
     "execution_count": 37,
     "metadata": {},
     "output_type": "execute_result"
    }
   ],
   "source": [
    "recipe_collection.update_many(\n",
    "    {\"ingredient_quantity\" : \"$\"},\n",
    "    { \"$rename\": { 'spartan': 'chocolate chip'} } \n",
    ")\n"
   ]
  },
  {
   "cell_type": "code",
   "execution_count": 38,
   "id": "0a14e1f3",
   "metadata": {},
   "outputs": [
    {
     "data": {
      "text/plain": [
       "<pymongo.results.UpdateResult at 0x7fb3ed3b0fc0>"
      ]
     },
     "execution_count": 38,
     "metadata": {},
     "output_type": "execute_result"
    }
   ],
   "source": [
    "recipe_collection.update_many( { }, { \"$rename\": \n",
    "                                     { \"ingredient_quantity.spartan\": \"ingredient_quantity.chocolate chip\" } } )"
   ]
  },
  {
   "cell_type": "code",
   "execution_count": null,
   "id": "46673863",
   "metadata": {},
   "outputs": [],
   "source": []
  }
 ],
 "metadata": {
  "kernelspec": {
   "display_name": "Python 3 (ipykernel)",
   "language": "python",
   "name": "python3"
  },
  "language_info": {
   "codemirror_mode": {
    "name": "ipython",
    "version": 3
   },
   "file_extension": ".py",
   "mimetype": "text/x-python",
   "name": "python",
   "nbconvert_exporter": "python",
   "pygments_lexer": "ipython3",
   "version": "3.10.0"
  }
 },
 "nbformat": 4,
 "nbformat_minor": 5
}
