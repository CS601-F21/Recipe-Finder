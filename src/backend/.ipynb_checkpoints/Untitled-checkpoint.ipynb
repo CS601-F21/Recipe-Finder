{
 "cells": [
  {
   "cell_type": "code",
   "execution_count": 2,
   "id": "bd7efc74",
   "metadata": {},
   "outputs": [],
   "source": [
    "# Find a route from the first node to the second node in a directed graph.\n",
    "\n",
    "def find_route(node1, node2):\n",
    "  found_path = None\n",
    "  queue = Queue()\n",
    "  node = node1\n",
    "  node.shortest_path = [node]\n",
    "  all_visited_nodes = [node]\n",
    "  while node:\n",
    "    for adjacent in node.adjacency_list:\n",
    "      if not adjacent.shortest_path:\n",
    "        adjacent.shortest_path = node.shortest_path + [adjacent]\n",
    "        if adjacent == node2:\n",
    "          found_path = node.shortest_path + [adjacent]\n",
    "          break\n",
    "        queue.add(adjacent)\n",
    "        all_visited_nodes.append(adjacent)\n",
    "    node = queue.remove()\n",
    "  for visited in all_visited_nodes:\n",
    "    visited.shortest_path = None\n",
    "  return found_path\n",
    "  \n",
    "class Node():\n",
    "  def __init__(self, data, adjacency_list=None):\n",
    "    self.data = data\n",
    "    self.adjacency_list = adjacency_list or []\n",
    "    self.shortest_path = None\n",
    "  \n",
    "  def add_edge_to(self, node):\n",
    "    "
   ]
  },
  {
   "cell_type": "code",
   "execution_count": null,
   "id": "9a43341a",
   "metadata": {},
   "outputs": [],
   "source": []
  }
 ],
 "metadata": {
  "kernelspec": {
   "display_name": "Python 3 (ipykernel)",
   "language": "python",
   "name": "python3"
  },
  "language_info": {
   "codemirror_mode": {
    "name": "ipython",
    "version": 3
   },
   "file_extension": ".py",
   "mimetype": "text/x-python",
   "name": "python",
   "nbconvert_exporter": "python",
   "pygments_lexer": "ipython3",
   "version": "3.10.0"
  }
 },
 "nbformat": 4,
 "nbformat_minor": 5
}
